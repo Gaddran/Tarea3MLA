{
 "cells": [
  {
   "cell_type": "markdown",
   "metadata": {},
   "source": [
    "<div>\n",
    "<img src=\"https://i.ibb.co/v3CvVz9/udd-short.png\" width=\"150\"/>\n",
    "    <br>\n",
    "    <strong>Universidad del Desarrollo</strong><br>\n",
    "    <em>Magíster en Data Science</em><br>\n",
    "    <em>Profesor: Tomás Fontecilla </em><br>\n",
    "\n",
    "</div>\n",
    "\n",
    "# Machine Learning Avanzado\n",
    "*17 de Diciembre de 2024*\n",
    "\n",
    "#### Integrantes: \n",
    "`Jocelyn Cáceres, Kurt Castro, Giuseppe Lavarello, Carlos Saquel`"
   ]
  },
  {
   "cell_type": "markdown",
   "metadata": {},
   "source": [
    "1) LSTM producción de leche\n",
    "    - Preparación de Datos\n",
    "    - Visualización serie de tiempo\n",
    "    - Análisis serie de tiempo? tendencia, estacionalidad, etc\n",
    "    - Modelo LSTM\n",
    "        - Separar datos (train, test, ¿val?)\n",
    "        - Diseño arquitectura modelo\n",
    "        - Entrenar modelo\n",
    "        - Validacion y calculo de metricas\n",
    "        - predicciones (pide 3 meses)\n",
    "            - Visualizar predicciones\n",
    "            - Comparar resultados\n",
    "\n",
    "2) LSTM producción IPSA\n",
    "    - Obtencion de datos (probablemente directo de la pagina de la bolsa de santiago)\n",
    "    - Preparación de Datos\n",
    "    - Visualización serie de tiempo\n",
    "    - Análisis serie de tiempo?\n",
    "    - Modelo LSTM\n",
    "        - Separar datos (train, test, ¿val?)\n",
    "        - Diseño arquitectura modelo\n",
    "        - Entrenar modelo\n",
    "        - Validacion y calculo de metricas\n",
    "        - predicciones (pide 3 meses)\n",
    "            - Visualizar predicciones\n",
    "            - Comparar resultados\n",
    "3) Autoencoder, limpieza de imágenes y extracción de texto\n",
    "    - Preparación de Datos\n",
    "    - Visualización de muestra de datos\n",
    "    - Preprosesamiento de imagenes\n",
    "    - Autoencoder\n",
    "        - Separar imagenes (train, test, val)\n",
    "        - Diseño arquitectura modelo\n",
    "        - Entrenar modelo\n",
    "        - Limpiar imagenes y visualizar comparacion de 2 o 3 ejemplos\n",
    "        - Extraer texto y validar \n",
    "        - Usar imagen propia \"mostrar imagen inicial y después de correr el modelo\"\n",
    "\n",
    "4) Conclusiones y dar formato de Informe\n",
    "    - Ejemplo: \n",
    "        1. Objetivo\n",
    "        2. Introducción\n",
    "        3. Metodología \n",
    "            - Aca el codigo y las validaciones\n",
    "        4. Conclusiones    \n"
   ]
  },
  {
   "cell_type": "code",
   "execution_count": null,
   "metadata": {},
   "outputs": [],
   "source": []
  }
 ],
 "metadata": {
  "kernelspec": {
   "display_name": "base",
   "language": "python",
   "name": "python3"
  },
  "language_info": {
   "codemirror_mode": {
    "name": "ipython",
    "version": 3
   },
   "file_extension": ".py",
   "mimetype": "text/x-python",
   "name": "python",
   "nbconvert_exporter": "python",
   "pygments_lexer": "ipython3",
   "version": "3.12.3"
  }
 },
 "nbformat": 4,
 "nbformat_minor": 2
}
